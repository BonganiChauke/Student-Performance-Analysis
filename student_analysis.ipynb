{
 "cells": [
  {
   "cell_type": "markdown",
   "id": "61bec302",
   "metadata": {},
   "source": [
    "# Student Scores Analysis\n",
    "\n",
    "This notebook performs the following tasks:\n",
    "1. Calculate and display the mean (average) score for all students.\n",
    "2. Identify and print the highest score and the name of the student who achieved it.\n",
    "3. Count the total number of students in the dataset.\n",
    "4. Group the students by Subject and calculate the mean score per subject.\n",
    "5. Visualize the distribution of scores using a histogram.\n",
    "6. Identify students who scored below the average and suggest improvements."
   ]
  },
  {
   "cell_type": "code",
   "execution_count": 1,
   "id": "132000d1",
   "metadata": {},
   "outputs": [
    {
     "data": {
      "application/vnd.microsoft.datawrangler.viewer.v0+json": {
       "columns": [
        {
         "name": "index",
         "rawType": "int64",
         "type": "integer"
        },
        {
         "name": "Student_ID",
         "rawType": "object",
         "type": "string"
        },
        {
         "name": "Name",
         "rawType": "object",
         "type": "string"
        },
        {
         "name": "Subject",
         "rawType": "object",
         "type": "string"
        },
        {
         "name": "Score",
         "rawType": "int64",
         "type": "integer"
        }
       ],
       "ref": "bb40531a-fc06-4608-bba0-9d0887a59deb",
       "rows": [
        [
         "0",
         "S1000",
         "Brian Weber",
         "Science",
         "78"
        ],
        [
         "1",
         "S1001",
         "Shannon Davis",
         "Computer Science",
         "70"
        ],
        [
         "2",
         "S1002",
         "Brent Pineda",
         "Mathematics",
         "63"
        ],
        [
         "3",
         "S1003",
         "Joseph Bennett",
         "Mathematics",
         "83"
        ],
        [
         "4",
         "S1004",
         "Gina Potter",
         "English",
         "59"
        ]
       ],
       "shape": {
        "columns": 4,
        "rows": 5
       }
      },
      "text/html": [
       "<div>\n",
       "<style scoped>\n",
       "    .dataframe tbody tr th:only-of-type {\n",
       "        vertical-align: middle;\n",
       "    }\n",
       "\n",
       "    .dataframe tbody tr th {\n",
       "        vertical-align: top;\n",
       "    }\n",
       "\n",
       "    .dataframe thead th {\n",
       "        text-align: right;\n",
       "    }\n",
       "</style>\n",
       "<table border=\"1\" class=\"dataframe\">\n",
       "  <thead>\n",
       "    <tr style=\"text-align: right;\">\n",
       "      <th></th>\n",
       "      <th>Student_ID</th>\n",
       "      <th>Name</th>\n",
       "      <th>Subject</th>\n",
       "      <th>Score</th>\n",
       "    </tr>\n",
       "  </thead>\n",
       "  <tbody>\n",
       "    <tr>\n",
       "      <th>0</th>\n",
       "      <td>S1000</td>\n",
       "      <td>Brian Weber</td>\n",
       "      <td>Science</td>\n",
       "      <td>78</td>\n",
       "    </tr>\n",
       "    <tr>\n",
       "      <th>1</th>\n",
       "      <td>S1001</td>\n",
       "      <td>Shannon Davis</td>\n",
       "      <td>Computer Science</td>\n",
       "      <td>70</td>\n",
       "    </tr>\n",
       "    <tr>\n",
       "      <th>2</th>\n",
       "      <td>S1002</td>\n",
       "      <td>Brent Pineda</td>\n",
       "      <td>Mathematics</td>\n",
       "      <td>63</td>\n",
       "    </tr>\n",
       "    <tr>\n",
       "      <th>3</th>\n",
       "      <td>S1003</td>\n",
       "      <td>Joseph Bennett</td>\n",
       "      <td>Mathematics</td>\n",
       "      <td>83</td>\n",
       "    </tr>\n",
       "    <tr>\n",
       "      <th>4</th>\n",
       "      <td>S1004</td>\n",
       "      <td>Gina Potter</td>\n",
       "      <td>English</td>\n",
       "      <td>59</td>\n",
       "    </tr>\n",
       "  </tbody>\n",
       "</table>\n",
       "</div>"
      ],
      "text/plain": [
       "  Student_ID            Name           Subject  Score\n",
       "0      S1000     Brian Weber           Science     78\n",
       "1      S1001   Shannon Davis  Computer Science     70\n",
       "2      S1002    Brent Pineda       Mathematics     63\n",
       "3      S1003  Joseph Bennett       Mathematics     83\n",
       "4      S1004     Gina Potter           English     59"
      ]
     },
     "execution_count": 1,
     "metadata": {},
     "output_type": "execute_result"
    }
   ],
   "source": [
    "# Import required libraries\n",
    "import pandas as pd\n",
    "import matplotlib.pyplot as plt\n",
    "\n",
    "# Load the dataset\n",
    "file_path = './student_scores_statistics.csv'\n",
    "data = pd.read_csv(file_path)\n",
    "\n",
    "# Display the first few rows of the dataset\n",
    "data.head()"
   ]
  },
  {
   "cell_type": "markdown",
   "id": "74f850f7",
   "metadata": {},
   "source": [
    "## Question 1: Calculate and display the mean (average) score for all students"
   ]
  },
  {
   "cell_type": "code",
   "execution_count": 2,
   "id": "b2c99384",
   "metadata": {},
   "outputs": [
    {
     "name": "stdout",
     "output_type": "stream",
     "text": [
      "Mean Score: 70.23\n"
     ]
    }
   ],
   "source": [
    "# Calculate the mean score\n",
    "mean_score = data['Score'].mean()\n",
    "\n",
    "# Display the mean score\n",
    "print(f\"Mean Score: {mean_score:.2f}\")"
   ]
  },
  {
   "cell_type": "markdown",
   "id": "789c245f",
   "metadata": {},
   "source": [
    "## Question 2: Identify and print the highest score and the name of the student who achieved it"
   ]
  },
  {
   "cell_type": "code",
   "execution_count": 3,
   "id": "7b4885a6",
   "metadata": {},
   "outputs": [
    {
     "name": "stdout",
     "output_type": "stream",
     "text": [
      "Highest Score: 100, Name: Andrew Ellis\n"
     ]
    }
   ],
   "source": [
    "# Find the row with the highest score\n",
    "highest_score_row = data.loc[data['Score'].idxmax()]\n",
    "\n",
    "# Extract the score and name of the student\n",
    "highest_score = highest_score_row['Score']\n",
    "highest_score_name = highest_score_row['Name']\n",
    "\n",
    "# Display the highest score and student's name\n",
    "print(f\"Highest Score: {highest_score}, Name: {highest_score_name}\")"
   ]
  },
  {
   "cell_type": "markdown",
   "id": "e6bfc99e",
   "metadata": {},
   "source": [
    "## Question 3: Count the total number of students in the dataset"
   ]
  },
  {
   "cell_type": "code",
   "execution_count": 4,
   "id": "4b187b2f",
   "metadata": {},
   "outputs": [
    {
     "name": "stdout",
     "output_type": "stream",
     "text": [
      "Total Students: 100\n"
     ]
    }
   ],
   "source": [
    "# Count the unique student IDs\n",
    "total_students = data['Student_ID'].nunique()\n",
    "\n",
    "# Display the total number of students\n",
    "print(f\"Total Students: {total_students}\")"
   ]
  }
 ],
 "metadata": {
  "kernelspec": {
   "display_name": "Python 3",
   "language": "python",
   "name": "python3"
  },
  "language_info": {
   "codemirror_mode": {
    "name": "ipython",
    "version": 3
   },
   "file_extension": ".py",
   "mimetype": "text/x-python",
   "name": "python",
   "nbconvert_exporter": "python",
   "pygments_lexer": "ipython3",
   "version": "3.13.3"
  }
 },
 "nbformat": 4,
 "nbformat_minor": 5
}
