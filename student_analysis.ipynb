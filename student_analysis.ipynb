{
 "cells": [
  {
   "cell_type": "markdown",
   "id": "61bec302",
   "metadata": {},
   "source": [
    "# Student Scores Analysis\n",
    "\n",
    "This notebook performs the following tasks:\n",
    "1. Calculate and display the mean (average) score for all students.\n",
    "2. Identify and print the highest score and the name of the student who achieved it.\n",
    "3. Count the total number of students in the dataset.\n",
    "4. Group the students by Subject and calculate the mean score per subject.\n",
    "5. Visualize the distribution of scores using a histogram.\n",
    "6. Identify students who scored below the average and suggest improvements."
   ]
  },
  {
   "cell_type": "code",
   "execution_count": 1,
   "id": "132000d1",
   "metadata": {},
   "outputs": [
    {
     "data": {
      "application/vnd.microsoft.datawrangler.viewer.v0+json": {
       "columns": [
        {
         "name": "index",
         "rawType": "int64",
         "type": "integer"
        },
        {
         "name": "Student_ID",
         "rawType": "object",
         "type": "string"
        },
        {
         "name": "Name",
         "rawType": "object",
         "type": "string"
        },
        {
         "name": "Subject",
         "rawType": "object",
         "type": "string"
        },
        {
         "name": "Score",
         "rawType": "int64",
         "type": "integer"
        }
       ],
       "ref": "bb40531a-fc06-4608-bba0-9d0887a59deb",
       "rows": [
        [
         "0",
         "S1000",
         "Brian Weber",
         "Science",
         "78"
        ],
        [
         "1",
         "S1001",
         "Shannon Davis",
         "Computer Science",
         "70"
        ],
        [
         "2",
         "S1002",
         "Brent Pineda",
         "Mathematics",
         "63"
        ],
        [
         "3",
         "S1003",
         "Joseph Bennett",
         "Mathematics",
         "83"
        ],
        [
         "4",
         "S1004",
         "Gina Potter",
         "English",
         "59"
        ]
       ],
       "shape": {
        "columns": 4,
        "rows": 5
       }
      },
      "text/html": [
       "<div>\n",
       "<style scoped>\n",
       "    .dataframe tbody tr th:only-of-type {\n",
       "        vertical-align: middle;\n",
       "    }\n",
       "\n",
       "    .dataframe tbody tr th {\n",
       "        vertical-align: top;\n",
       "    }\n",
       "\n",
       "    .dataframe thead th {\n",
       "        text-align: right;\n",
       "    }\n",
       "</style>\n",
       "<table border=\"1\" class=\"dataframe\">\n",
       "  <thead>\n",
       "    <tr style=\"text-align: right;\">\n",
       "      <th></th>\n",
       "      <th>Student_ID</th>\n",
       "      <th>Name</th>\n",
       "      <th>Subject</th>\n",
       "      <th>Score</th>\n",
       "    </tr>\n",
       "  </thead>\n",
       "  <tbody>\n",
       "    <tr>\n",
       "      <th>0</th>\n",
       "      <td>S1000</td>\n",
       "      <td>Brian Weber</td>\n",
       "      <td>Science</td>\n",
       "      <td>78</td>\n",
       "    </tr>\n",
       "    <tr>\n",
       "      <th>1</th>\n",
       "      <td>S1001</td>\n",
       "      <td>Shannon Davis</td>\n",
       "      <td>Computer Science</td>\n",
       "      <td>70</td>\n",
       "    </tr>\n",
       "    <tr>\n",
       "      <th>2</th>\n",
       "      <td>S1002</td>\n",
       "      <td>Brent Pineda</td>\n",
       "      <td>Mathematics</td>\n",
       "      <td>63</td>\n",
       "    </tr>\n",
       "    <tr>\n",
       "      <th>3</th>\n",
       "      <td>S1003</td>\n",
       "      <td>Joseph Bennett</td>\n",
       "      <td>Mathematics</td>\n",
       "      <td>83</td>\n",
       "    </tr>\n",
       "    <tr>\n",
       "      <th>4</th>\n",
       "      <td>S1004</td>\n",
       "      <td>Gina Potter</td>\n",
       "      <td>English</td>\n",
       "      <td>59</td>\n",
       "    </tr>\n",
       "  </tbody>\n",
       "</table>\n",
       "</div>"
      ],
      "text/plain": [
       "  Student_ID            Name           Subject  Score\n",
       "0      S1000     Brian Weber           Science     78\n",
       "1      S1001   Shannon Davis  Computer Science     70\n",
       "2      S1002    Brent Pineda       Mathematics     63\n",
       "3      S1003  Joseph Bennett       Mathematics     83\n",
       "4      S1004     Gina Potter           English     59"
      ]
     },
     "execution_count": 1,
     "metadata": {},
     "output_type": "execute_result"
    }
   ],
   "source": [
    "# Import required libraries\n",
    "import pandas as pd\n",
    "import matplotlib.pyplot as plt\n",
    "\n",
    "# Load the dataset\n",
    "file_path = './student_scores_statistics.csv'\n",
    "data = pd.read_csv(file_path)\n",
    "\n",
    "# Display the first few rows of the dataset\n",
    "data.head()"
   ]
  },
  {
   "cell_type": "markdown",
   "id": "74f850f7",
   "metadata": {},
   "source": [
    "## Question 1: Calculate and display the mean (average) score for all students"
   ]
  },
  {
   "cell_type": "code",
   "execution_count": 2,
   "id": "b2c99384",
   "metadata": {},
   "outputs": [
    {
     "name": "stdout",
     "output_type": "stream",
     "text": [
      "Mean Score: 70.23\n"
     ]
    }
   ],
   "source": [
    "# Calculate the mean score\n",
    "mean_score = data['Score'].mean()\n",
    "\n",
    "# Display the mean score\n",
    "print(f\"Mean Score: {mean_score:.2f}\")"
   ]
  },
  {
   "cell_type": "markdown",
   "id": "789c245f",
   "metadata": {},
   "source": [
    "## Question 2: Identify and print the highest score and the name of the student who achieved it"
   ]
  },
  {
   "cell_type": "code",
   "execution_count": 3,
   "id": "7b4885a6",
   "metadata": {},
   "outputs": [
    {
     "name": "stdout",
     "output_type": "stream",
     "text": [
      "Highest Score: 100, Name: Andrew Ellis\n"
     ]
    }
   ],
   "source": [
    "# Find the row with the highest score\n",
    "highest_score_row = data.loc[data['Score'].idxmax()]\n",
    "\n",
    "# Extract the score and name of the student\n",
    "highest_score = highest_score_row['Score']\n",
    "highest_score_name = highest_score_row['Name']\n",
    "\n",
    "# Display the highest score and student's name\n",
    "print(f\"Highest Score: {highest_score}, Name: {highest_score_name}\")"
   ]
  },
  {
   "cell_type": "markdown",
   "id": "e6bfc99e",
   "metadata": {},
   "source": [
    "## Question 3: Count the total number of students in the dataset"
   ]
  },
  {
   "cell_type": "code",
   "execution_count": 4,
   "id": "4b187b2f",
   "metadata": {},
   "outputs": [
    {
     "name": "stdout",
     "output_type": "stream",
     "text": [
      "Total Students: 100\n"
     ]
    }
   ],
   "source": [
    "# Count the unique student IDs\n",
    "total_students = data['Student_ID'].nunique()\n",
    "\n",
    "# Display the total number of students\n",
    "print(f\"Total Students: {total_students}\")"
   ]
  },
  {
   "cell_type": "markdown",
   "id": "7b1bfd64",
   "metadata": {},
   "source": [
    "## Qestion 4: Group the students by Subject and calculate the mean score per subject"
   ]
  },
  {
   "cell_type": "code",
   "execution_count": 5,
   "id": "b3d39f53",
   "metadata": {},
   "outputs": [
    {
     "name": "stdout",
     "output_type": "stream",
     "text": [
      "Mean Scores Per Subject:\n",
      "Subject\n",
      "Computer Science    67.235294\n",
      "English             65.117647\n",
      "History             73.958333\n",
      "Mathematics         75.944444\n",
      "Science             67.958333\n",
      "Name: Score, dtype: float64\n"
     ]
    }
   ],
   "source": [
    "# Group data by subject and calculate mean scores\n",
    "mean_scores_per_subject = data.groupby('Subject')['Score'].mean()\n",
    "\n",
    "# Display mean scores per subject\n",
    "print(\"Mean Scores Per Subject:\")\n",
    "print(mean_scores_per_subject)"
   ]
  },
  {
   "cell_type": "markdown",
   "id": "a78a0797",
   "metadata": {},
   "source": [
    "## Question 5: Visualize the distribution of scores using a histogram"
   ]
  },
  {
   "cell_type": "code",
   "execution_count": 6,
   "id": "5a04e052",
   "metadata": {},
   "outputs": [
    {
     "data": {
      "image/png": "[encoded data removed]",
      "text/plain": [
       "<Figure size 800x500 with 1 Axes>"
      ]
     },
     "metadata": {},
     "output_type": "display_data"
    }
   ],
   "source": [
    "# Plot a histogram of scores\n",
    "plt.figure(figsize=(8, 5))\n",
    "plt.hist(data['Score'], bins=10, color='skyblue', edgecolor='black')\n",
    "plt.title('Distribution of Scores')\n",
    "plt.xlabel('Score')\n",
    "plt.ylabel('Frequency')\n",
    "plt.grid(axis='y', linestyle='--', alpha=0.7)\n",
    "plt.show()"
   ]
  },
  {
   "cell_type": "markdown",
   "id": "a5735346",
   "metadata": {},
   "source": [
    "## Question 6: Identify students who scored below the average and suggest improvements"
   ]
  },
  {
   "cell_type": "code",
   "execution_count": 7,
   "id": "59585a58",
   "metadata": {},
   "outputs": [
    {
     "name": "stdout",
     "output_type": "stream",
     "text": [
      "Students Below Average:\n",
      "                    Name  Score\n",
      "1          Shannon Davis     70\n",
      "2           Brent Pineda     63\n",
      "4            Gina Potter     59\n",
      "6           Patrick Wang     67\n",
      "7            Brian Joyce     52\n",
      "8             Jacob Hunt     55\n",
      "9       Joseph Armstrong     51\n",
      "14             Glen Luna     70\n",
      "15           Chad Foster     42\n",
      "16          Steven Frank     50\n",
      "18        Donald Anthony     51\n",
      "21         Deborah Sharp     47\n",
      "24       Brittany Church     67\n",
      "25             Ryan Leon     41\n",
      "30          Austin Owens     66\n",
      "31         Ronald Powers     44\n",
      "34  Mrs. Erica Olson DVM     41\n",
      "35         Ruben Jackson     62\n",
      "36         Karen Edwards     53\n",
      "37           Mark Wilson     53\n",
      "38        Clayton Glover     61\n",
      "40        Daniel Kennedy     45\n",
      "43     Christina Vazquez     59\n",
      "45           Diana Craig     62\n",
      "46       Stephen Shields     40\n",
      "48        Lisa Dickerson     42\n",
      "49          Nicole Smith     55\n",
      "51      Thomas Hendricks     55\n",
      "52          Kiara Lowery     55\n",
      "54            Louis Todd     57\n",
      "56       Michael Douglas     53\n",
      "57         Terry Johnson     48\n",
      "58          Ronald Mejia     57\n",
      "60          Carla Juarez     59\n",
      "61        Barbara Castro     47\n",
      "62           Donna Brown     67\n",
      "68          John Aguilar     60\n",
      "70          Stacey Moore     60\n",
      "72           Andrew Ward     48\n",
      "73          Susan Foster     60\n",
      "74     Jonathan Campbell     65\n",
      "75       Justin Williams     59\n",
      "76         Theodore Odom     41\n",
      "77            Emily Buck     43\n",
      "82       Brandi Gonzalez     41\n",
      "85         Elizabeth Roy     46\n",
      "89          John Hammond     64\n",
      "91     Michael Rodriguez     59\n",
      "95     Ronald Benson DDS     69\n",
      "96         Christy Jones     67\n",
      "97             Chad Hart     53\n",
      "Improvement Suggestion: Offer personalized tutoring sessions focusing on identified weak subjects.\n"
     ]
    }
   ],
   "source": [
    "# Filter students who scored below the average\n",
    "below_average = data[data['Score'] < mean_score][['Name', 'Score']]\n",
    "\n",
    "# Display the list of students below average\n",
    "print(\"Students Below Average:\")\n",
    "print(below_average)\n",
    "\n",
    "# Suggest an improvement\n",
    "print(\"Improvement Suggestion: Offer personalized tutoring sessions focusing on identified weak subjects.\")"
   ]
  }
 ],
 "metadata": {
  "kernelspec": {
   "display_name": "Python 3",
   "language": "python",
   "name": "python3"
  },
  "language_info": {
   "codemirror_mode": {
    "name": "ipython",
    "version": 3
   },
   "file_extension": ".py",
   "mimetype": "text/x-python",
   "name": "python",
   "nbconvert_exporter": "python",
   "pygments_lexer": "ipython3",
   "version": "3.13.3"
  }
 },
 "nbformat": 4,
 "nbformat_minor": 5
}
